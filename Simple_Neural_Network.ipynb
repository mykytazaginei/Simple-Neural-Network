{
  "nbformat": 4,
  "nbformat_minor": 0,
  "metadata": {
    "colab": {
      "provenance": [],
      "authorship_tag": "ABX9TyMFfEgHYzWvYkLCg8Fw/pdj"
    },
    "kernelspec": {
      "name": "python3",
      "display_name": "Python 3"
    },
    "language_info": {
      "name": "python"
    }
  },
  "cells": [
    {
      "cell_type": "markdown",
      "source": [
        "# Simple Neural Network"
      ],
      "metadata": {
        "id": "9_zh390dJ4L_"
      }
    },
    {
      "cell_type": "code",
      "execution_count": 3,
      "metadata": {
        "id": "CBo2DGU-IZwv"
      },
      "outputs": [],
      "source": [
        "import numpy as np\n",
        "import matplotlib.pyplot as plt\n",
        "import tensorflow as tf\n",
        "from keras.models import Sequential\n",
        "from keras.layers import Dense"
      ]
    },
    {
      "cell_type": "markdown",
      "source": [
        "## DataSet\n",
        "For data set i will use a data generetion function"
      ],
      "metadata": {
        "id": "SXsZhTBuMHCW"
      }
    },
    {
      "cell_type": "code",
      "source": [
        "def load_coffee_data():\n",
        "    \"\"\" Creates a coffee roasting data set.\n",
        "        roasting duration: 12-15 minutes is best\n",
        "        temperature range: 175-260C is best\n",
        "    \"\"\"\n",
        "    rng = np.random.default_rng(2)\n",
        "    X = rng.random(400).reshape(-1,2)\n",
        "    X[:,1] = X[:,1] * 4 + 11.5          # 12-15 min is best\n",
        "    X[:,0] = X[:,0] * (285-150) + 150  # 350-500 F (175-260 C) is best\n",
        "    Y = np.zeros(len(X))\n",
        "\n",
        "    i=0\n",
        "    for t,d in X:\n",
        "        y = -3/(260-175)*t + 21\n",
        "        if (t > 175 and t < 260 and d > 12 and d < 15 and d<=y ):\n",
        "            Y[i] = 1\n",
        "        else:\n",
        "            Y[i] = 0\n",
        "        i += 1\n",
        "\n",
        "    return (X, Y.reshape(-1,1))"
      ],
      "metadata": {
        "id": "bSNoYHVFMfSy"
      },
      "execution_count": 4,
      "outputs": []
    },
    {
      "cell_type": "code",
      "source": [
        "X, y = load_coffee_data()\n",
        "print(X.shape, y.shape)"
      ],
      "metadata": {
        "colab": {
          "base_uri": "https://localhost:8080/"
        },
        "id": "dlqB0RzgMlJE",
        "outputId": "2a4f4e55-51cf-42ea-dd2c-44e162cbd3fe"
      },
      "execution_count": 8,
      "outputs": [
        {
          "output_type": "stream",
          "name": "stdout",
          "text": [
            "(200, 2) (200, 1)\n"
          ]
        }
      ]
    },
    {
      "cell_type": "markdown",
      "source": [
        "## Normalize Data"
      ],
      "metadata": {
        "id": "vfXvp3wMNkZB"
      }
    },
    {
      "cell_type": "code",
      "source": [
        "print(f'Temperature Max, Min pre normalization: {np.max(X[:,0])}, {np.min(X[:,0])}')\n",
        "print(f'Duration Max, Min pre normalization: {np.max(X[:,1])}, {np.min(X[:,1])}')\n",
        "norm_l = tf.keras.layers.Normalization(axis=1)\n",
        "norm_l.adapt(X) #learns mean, variance\n",
        "Xn = norm_l(X)\n",
        "print(f'Temperature Max, Min post normalization: {np.max(Xn[:,0])}, {np.min(Xn[:,0])}')\n",
        "print(f'Duration Max, Min post normalization: {np.max(Xn[:,1])}, {np.min(Xn[:,1])}')"
      ],
      "metadata": {
        "colab": {
          "base_uri": "https://localhost:8080/"
        },
        "id": "H5DFZAlnNoei",
        "outputId": "b10a0a75-6d33-4113-a2e7-8d46cb7fe1ce"
      },
      "execution_count": 13,
      "outputs": [
        {
          "output_type": "stream",
          "name": "stdout",
          "text": [
            "Temperature Max, Min pre normalization: 284.99434167453603, 151.32372212128612\n",
            "Duration Max, Min pre normalization: 15.454206928801511, 11.512747082472469\n",
            "Temperature Max, Min post normalization: 1.659753680229187, -1.6852186918258667\n",
            "Duration Max, Min post normalization: 1.793238878250122, -1.6996712684631348\n"
          ]
        }
      ]
    },
    {
      "cell_type": "markdown",
      "source": [
        "Tile/copy our data to increase the training set size and reduce the number of training epochs."
      ],
      "metadata": {
        "id": "CUM93RwUPS_s"
      }
    },
    {
      "cell_type": "code",
      "source": [
        "Xt = np.tile(Xn,(1000, 1))\n",
        "Yt = np.tile(y, (1000, 1))\n",
        "print(Xt, Yt)"
      ],
      "metadata": {
        "colab": {
          "base_uri": "https://localhost:8080/"
        },
        "id": "WEqzi_0XOI2W",
        "outputId": "81baded2-6ba3-4d29-cee8-a44b2c958d6e"
      },
      "execution_count": 14,
      "outputs": [
        {
          "output_type": "stream",
          "name": "stdout",
          "text": [
            "[[-0.8345551  -0.6528792 ]\n",
            " [ 1.0323051  -1.3851453 ]\n",
            " [ 0.3089391   0.8716251 ]\n",
            " ...\n",
            " [ 1.3767233  -0.29521284]\n",
            " [ 0.04860044 -0.5590083 ]\n",
            " [ 1.6597537  -0.62245744]] [[1.]\n",
            " [0.]\n",
            " [0.]\n",
            " ...\n",
            " [0.]\n",
            " [1.]\n",
            " [0.]]\n"
          ]
        }
      ]
    },
    {
      "cell_type": "markdown",
      "source": [
        "## Tensorflow Model\n",
        "Let's build the \"Coffee Roasting Network\" described in lecture. There are two layers with sigmoid activations."
      ],
      "metadata": {
        "id": "RgV9g1QQPUAE"
      }
    },
    {
      "cell_type": "code",
      "source": [
        "#  Установка фиксированного значения для генератора случайных чисел\n",
        "#При каждом запуске этого кода с tf.random.set_seed(1234) вы будете получать один и тот же случайный тензор.\n",
        "#Если убрать или изменить значение в set_seed,\n",
        "# полученные случайные значения будут различаться при каждом запуске программы.\n",
        "tf.random.set_seed(1234)\n",
        "\n",
        "model = Sequential([\n",
        "    tf.keras.Input(shape=(2,)),\n",
        "    Dense(3, activation='sigmoid', name ='layer1'),\n",
        "    Dense(1, activation='sigmoid', name = 'layer2')\n",
        "])\n",
        "\n",
        "model.summary() #description of the network"
      ],
      "metadata": {
        "colab": {
          "base_uri": "https://localhost:8080/"
        },
        "id": "RhgoYra8PoLN",
        "outputId": "002b04f7-de92-4ac1-e088-49cb89abec5e"
      },
      "execution_count": 19,
      "outputs": [
        {
          "output_type": "stream",
          "name": "stdout",
          "text": [
            "Model: \"sequential_1\"\n",
            "_________________________________________________________________\n",
            " Layer (type)                Output Shape              Param #   \n",
            "=================================================================\n",
            " layer1 (Dense)              (None, 3)                 9         \n",
            "                                                                 \n",
            " layer2 (Dense)              (None, 1)                 4         \n",
            "                                                                 \n",
            "=================================================================\n",
            "Total params: 13 (52.00 Byte)\n",
            "Trainable params: 13 (52.00 Byte)\n",
            "Non-trainable params: 0 (0.00 Byte)\n",
            "_________________________________________________________________\n"
          ]
        }
      ]
    },
    {
      "cell_type": "markdown",
      "source": [
        "The parameter counts shown in the summary correspond to the number of elements in the weight and bias arrays as shown below."
      ],
      "metadata": {
        "id": "A_ioXTP5Tt-i"
      }
    },
    {
      "cell_type": "code",
      "source": [
        "L1_num_params = 2 * 3 + 3   # W1 parameters  + b1 parameters\n",
        "L2_num_params = 3 * 1 + 1   # W2 parameters  + b2 parameters\n",
        "print(\"L1 params = \", L1_num_params, \", L2 params = \", L2_num_params  )"
      ],
      "metadata": {
        "colab": {
          "base_uri": "https://localhost:8080/"
        },
        "id": "yUqPha8ZQaHZ",
        "outputId": "e35bf05e-b31d-4961-9613-6e0efabcdb85"
      },
      "execution_count": 20,
      "outputs": [
        {
          "output_type": "stream",
          "name": "stdout",
          "text": [
            "L1 params =  9 , L2 params =  4\n"
          ]
        }
      ]
    },
    {
      "cell_type": "markdown",
      "source": [
        "Let's examine the weights and biases Tensorflow has instantiated.  The weights $W$ should be of size (number of features in input, number of units in the layer) while the bias $b$ size should match the number of units in the layer:\n",
        "- In the first layer with 3 units, we expect W to have a size of (2,3) and $b$ should have 3 elements.\n",
        "- In the second layer with 1 unit, we expect W to have a size of (3,1) and $b$ should have 1 element."
      ],
      "metadata": {
        "id": "P9d8YS88T_hQ"
      }
    },
    {
      "cell_type": "code",
      "source": [
        "W1, b1 = model.get_layer('layer1').get_weights()\n",
        "W2, b2 = model.get_layer('layer2').get_weights()\n",
        "print(f\"W1{W1.shape}:\\n\", W1, f\"\\nb1{b1.shape}:\", b1)\n",
        "print(f\"W2{W2.shape}:\\n\", W2, f\"\\nb2{b2.shape}:\", b2)"
      ],
      "metadata": {
        "colab": {
          "base_uri": "https://localhost:8080/"
        },
        "id": "Bux0dJeYUTCD",
        "outputId": "0d2c2f3c-9ce6-469a-ffa7-839eddd771b3"
      },
      "execution_count": 23,
      "outputs": [
        {
          "output_type": "stream",
          "name": "stdout",
          "text": [
            "W1(2, 3):\n",
            " [[-0.84030825 -0.66032195  0.5632168 ]\n",
            " [ 0.04501367 -0.7248856  -1.0070844 ]] \n",
            "b1(3,): [0. 0. 0.]\n",
            "W2(3, 1):\n",
            " [[-0.14662266]\n",
            " [ 0.3569262 ]\n",
            " [-0.2701342 ]] \n",
            "b2(1,): [0.]\n"
          ]
        }
      ]
    }
  ]
}